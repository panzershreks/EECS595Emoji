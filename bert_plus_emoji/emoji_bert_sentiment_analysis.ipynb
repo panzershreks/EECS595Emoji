{
  "cells": [
    {
      "cell_type": "code",
      "source": [
        "import os\n",
        "from google.colab import drive\n",
        "drive.mount('/content/drive')\n",
        "os.chdir('drive/My Drive/Colab Notebooks/EECS595/final_proj')\n",
        "!ls"
      ],
      "metadata": {
        "colab": {
          "base_uri": "https://localhost:8080/"
        },
        "id": "Dkbpj2acu1fd",
        "outputId": "39f2790c-7754-4337-813a-f287482123d7"
      },
      "execution_count": null,
      "outputs": [
        {
          "output_type": "stream",
          "name": "stdout",
          "text": [
            "Mounted at /content/drive\n",
            "emoji_bert_sentiment_analysis.ipynb  logs4\t\t\tres\n",
            "emotag-dimension-as-emojis.txt\t     rehydrated_tweets_parquet\tUntitled0.ipynb\n"
          ]
        }
      ]
    },
    {
      "cell_type": "code",
      "execution_count": null,
      "metadata": {
        "id": "U7HHv_PguuvR"
      },
      "outputs": [],
      "source": [
        "import pandas as pd\n",
        "from transformers import BertTokenizerFast, BertModel, Trainer, TrainingArguments\n",
        "import torch\n",
        "from torch.utils.data import Dataset\n",
        "from torch import nn\n",
        "import emoji as emo\n",
        "from tqdm import tqdm\n",
        "import concurrent.futures\n",
        "import multiprocessing as mp\n",
        "import time\n",
        "from sklearn.model_selection import train_test_split\n",
        "import matplotlib.pyplot as plt\n",
        "from collections import Counter\n",
        "import unicodedata as ud\n",
        "from transformers import AutoModelForSequenceClassification, AutoTokenizer\n",
        "from itertools import repeat\n",
        "import numpy as np\n",
        "from sklearn.metrics import accuracy_score, recall_score, precision_score, f1_score"
      ]
    },
    {
      "cell_type": "code",
      "execution_count": null,
      "metadata": {
        "id": "He2AQGvLuuvV"
      },
      "outputs": [],
      "source": [
        "SEED = 595"
      ]
    },
    {
      "cell_type": "markdown",
      "metadata": {
        "id": "F-gh6ajRuuvV"
      },
      "source": [
        "# Helpful Links\n",
        "- [`DOCS` emoji package docs](https://carpedm20.github.io/emoji/docs/)\n",
        "- [`HUGGINGFACEFORUM` Adding new tokens while preserving tokenization of adjacent tokens](https://discuss.huggingface.co/t/adding-new-tokens-while-preserving-tokenization-of-adjacent-tokens/12604)\n",
        "- [`MEDIUM` NLP | How to add a domain-specific vocabulary (new tokens) to a subword tokenizer already trained like BERT WordPiece](https://medium.com/@pierre_guillou/nlp-how-to-add-a-domain-specific-vocabulary-new-tokens-to-a-subword-tokenizer-already-trained-33ab15613a41)\n",
        "- [`KAGGLE_CODE` Tutorial: How to add a new token to Bert](https://www.kaggle.com/code/xhlulu/tutorial-how-to-add-a-new-token-to-bert)\n",
        "- [`KAGGLE_CODE` Sentiment Classification | BERT | HuggingFace](https://www.kaggle.com/code/ahmedabdulhamid/sentiment-classification-bert-huggingface/notebook)\n",
        "- [`MEDIUM` Twitter Sentiment Analysis with Deep Learning using BERT and Hugging Face\n",
        "](https://medium.com/mlearning-ai/twitter-sentiment-analysis-with-deep-learning-using-bert-and-hugging-face-830005bcdbbf)"
      ]
    },
    {
      "cell_type": "markdown",
      "metadata": {
        "id": "g_Aznn6NuuvX"
      },
      "source": [
        "# BERT Emoji Model Pipeline\n",
        "1. Load data\n",
        "2. Split into train and test sets\n",
        "3. Get emojis from emotag 620\n",
        "4. Get unique emoticons in train `emojis` col. (We don't have a way of finding emoticons in the text)\n",
        "5. Demojize train & test sets, also emotag 620 emojis\n",
        "6. Create a dict for emoticons and apply a similar \"demojize\" operation in the same fashion as 5.\n",
        "7. Add demojized emotag 620 emojis and emoticons to tokenizer and resize BERT\n",
        "8. Perform sentiment analysis"
      ]
    },
    {
      "cell_type": "markdown",
      "metadata": {
        "id": "2-hHvBIEuuvX"
      },
      "source": [
        "# 1. Load Data"
      ]
    },
    {
      "cell_type": "code",
      "execution_count": null,
      "metadata": {
        "id": "6Xd0TJKyuuvY"
      },
      "outputs": [],
      "source": [
        "parquet_dir = './rehydrated_tweets_parquet'"
      ]
    },
    {
      "cell_type": "markdown",
      "metadata": {
        "id": "ao_Y0BCvuuvY"
      },
      "source": [
        "Get the paths of all parquet files"
      ]
    },
    {
      "cell_type": "code",
      "execution_count": null,
      "metadata": {
        "id": "ulX-F3TcuuvZ"
      },
      "outputs": [],
      "source": [
        "parquet_list = []\n",
        "for root, _, files in os.walk(parquet_dir):\n",
        "    for file in files:\n",
        "        if file[0] != '.':\n",
        "            parquet_file_path = os.path.join(root, file)\n",
        "            if parquet_file_path[-8:] == '.parquet':\n",
        "                parquet_list.append(parquet_file_path)"
      ]
    },
    {
      "cell_type": "markdown",
      "metadata": {
        "id": "wadWBr3euuvZ"
      },
      "source": [
        "### Subset Data\n",
        "We subset data temporarily just for testing and initial temporary results"
      ]
    },
    {
      "cell_type": "code",
      "execution_count": null,
      "metadata": {
        "id": "cZeD9KJ0uuva"
      },
      "outputs": [],
      "source": [
        "# just use the first 2 parquet files\n",
        "parquet_list = parquet_list[:2]"
      ]
    },
    {
      "cell_type": "markdown",
      "metadata": {
        "id": "MLCQ2lT-uuva"
      },
      "source": [
        "Load subset and apply basic pre-processing"
      ]
    },
    {
      "cell_type": "code",
      "execution_count": null,
      "metadata": {
        "colab": {
          "base_uri": "https://localhost:8080/"
        },
        "id": "kYdPBUikuuva",
        "outputId": "82c70010-e6ee-4127-d21d-4ead1b06f314"
      },
      "outputs": [
        {
          "output_type": "stream",
          "name": "stderr",
          "text": [
            "100%|██████████| 2/2 [00:00<00:00, 37.20it/s]\n"
          ]
        }
      ],
      "source": [
        "df = pd.concat(map(pd.read_parquet, tqdm(parquet_list)))\n",
        "df = df.reset_index()\n",
        "df = df.set_index('index')"
      ]
    },
    {
      "cell_type": "code",
      "execution_count": null,
      "metadata": {
        "colab": {
          "base_uri": "https://localhost:8080/",
          "height": 455
        },
        "id": "KiX4bdMxuuvb",
        "outputId": "e8e1b8a4-41f8-417a-aa6e-461b71f62b44"
      },
      "outputs": [
        {
          "output_type": "execute_result",
          "data": {
            "text/plain": [
              "      tweet_date             tweet_id  sentiment emojis  tweet_day  \\\n",
              "index                                                                \n",
              "0     2019-04-08  1115139461875097600          1      😘          8   \n",
              "1     2019-04-08  1115139461875097600          1      😘          8   \n",
              "2     2019-04-08  1115139461912731648          1      🤗          8   \n",
              "5     2019-04-08  1115139512231792640          1      😆          8   \n",
              "6     2019-04-08  1115139516438724608          1      😍          8   \n",
              "...          ...                  ...        ...    ...        ...   \n",
              "33970 2019-04-22  1120567851780378624          0  :(,:(         22   \n",
              "33971 2019-04-22  1120567855978811392          1      😝         22   \n",
              "33973 2019-04-22  1120567885305245696          1      😘         22   \n",
              "33974 2019-04-22  1120567902095249408          0      😬         22   \n",
              "33975 2019-04-22  1120567923066724352          1      👍         22   \n",
              "\n",
              "       tweet_month  tweet_year tweet_year_month  \\\n",
              "index                                             \n",
              "0                4        2019          2019-04   \n",
              "1                4        2019          2019-04   \n",
              "2                4        2019          2019-04   \n",
              "5                4        2019          2019-04   \n",
              "6                4        2019          2019-04   \n",
              "...            ...         ...              ...   \n",
              "33970            4        2019          2019-04   \n",
              "33971            4        2019          2019-04   \n",
              "33973            4        2019          2019-04   \n",
              "33974            4        2019          2019-04   \n",
              "33975            4        2019          2019-04   \n",
              "\n",
              "                                              tweet_text  \n",
              "index                                                     \n",
              "0      RT @tpagon: ระดับเดซิเบลของเสียงต่างๆ https://...  \n",
              "1        GOT7 fighting😘😘😘\\n#GOT7 \\n#BBMAs\\n@GOT7Official  \n",
              "2      I love it when ppl come to me to help with dog...  \n",
              "5                        Aaaw you're a hella sweet bros😆  \n",
              "6                                           That booty😍😍  \n",
              "...                                                  ...  \n",
              "33970                         @Psycopathhh_ noted ate :(  \n",
              "33971             Craving something sweet, like donuts😝😝  \n",
              "33973                        @paraadonat Miss you too 😘😂  \n",
              "33974                   shidd mike b never even had one😬  \n",
              "33975  @issuingz @methodvendorsss @HakimiKimie12 @DDB...  \n",
              "\n",
              "[30311 rows x 9 columns]"
            ],
            "text/html": [
              "\n",
              "  <div id=\"df-0e19edc8-19f2-405f-8dd9-fb95bf2a2c7c\">\n",
              "    <div class=\"colab-df-container\">\n",
              "      <div>\n",
              "<style scoped>\n",
              "    .dataframe tbody tr th:only-of-type {\n",
              "        vertical-align: middle;\n",
              "    }\n",
              "\n",
              "    .dataframe tbody tr th {\n",
              "        vertical-align: top;\n",
              "    }\n",
              "\n",
              "    .dataframe thead th {\n",
              "        text-align: right;\n",
              "    }\n",
              "</style>\n",
              "<table border=\"1\" class=\"dataframe\">\n",
              "  <thead>\n",
              "    <tr style=\"text-align: right;\">\n",
              "      <th></th>\n",
              "      <th>tweet_date</th>\n",
              "      <th>tweet_id</th>\n",
              "      <th>sentiment</th>\n",
              "      <th>emojis</th>\n",
              "      <th>tweet_day</th>\n",
              "      <th>tweet_month</th>\n",
              "      <th>tweet_year</th>\n",
              "      <th>tweet_year_month</th>\n",
              "      <th>tweet_text</th>\n",
              "    </tr>\n",
              "    <tr>\n",
              "      <th>index</th>\n",
              "      <th></th>\n",
              "      <th></th>\n",
              "      <th></th>\n",
              "      <th></th>\n",
              "      <th></th>\n",
              "      <th></th>\n",
              "      <th></th>\n",
              "      <th></th>\n",
              "      <th></th>\n",
              "    </tr>\n",
              "  </thead>\n",
              "  <tbody>\n",
              "    <tr>\n",
              "      <th>0</th>\n",
              "      <td>2019-04-08</td>\n",
              "      <td>1115139461875097600</td>\n",
              "      <td>1</td>\n",
              "      <td>😘</td>\n",
              "      <td>8</td>\n",
              "      <td>4</td>\n",
              "      <td>2019</td>\n",
              "      <td>2019-04</td>\n",
              "      <td>RT @tpagon: ระดับเดซิเบลของเสียงต่างๆ https://...</td>\n",
              "    </tr>\n",
              "    <tr>\n",
              "      <th>1</th>\n",
              "      <td>2019-04-08</td>\n",
              "      <td>1115139461875097600</td>\n",
              "      <td>1</td>\n",
              "      <td>😘</td>\n",
              "      <td>8</td>\n",
              "      <td>4</td>\n",
              "      <td>2019</td>\n",
              "      <td>2019-04</td>\n",
              "      <td>GOT7 fighting😘😘😘\\n#GOT7 \\n#BBMAs\\n@GOT7Official</td>\n",
              "    </tr>\n",
              "    <tr>\n",
              "      <th>2</th>\n",
              "      <td>2019-04-08</td>\n",
              "      <td>1115139461912731648</td>\n",
              "      <td>1</td>\n",
              "      <td>🤗</td>\n",
              "      <td>8</td>\n",
              "      <td>4</td>\n",
              "      <td>2019</td>\n",
              "      <td>2019-04</td>\n",
              "      <td>I love it when ppl come to me to help with dog...</td>\n",
              "    </tr>\n",
              "    <tr>\n",
              "      <th>5</th>\n",
              "      <td>2019-04-08</td>\n",
              "      <td>1115139512231792640</td>\n",
              "      <td>1</td>\n",
              "      <td>😆</td>\n",
              "      <td>8</td>\n",
              "      <td>4</td>\n",
              "      <td>2019</td>\n",
              "      <td>2019-04</td>\n",
              "      <td>Aaaw you're a hella sweet bros😆</td>\n",
              "    </tr>\n",
              "    <tr>\n",
              "      <th>6</th>\n",
              "      <td>2019-04-08</td>\n",
              "      <td>1115139516438724608</td>\n",
              "      <td>1</td>\n",
              "      <td>😍</td>\n",
              "      <td>8</td>\n",
              "      <td>4</td>\n",
              "      <td>2019</td>\n",
              "      <td>2019-04</td>\n",
              "      <td>That booty😍😍</td>\n",
              "    </tr>\n",
              "    <tr>\n",
              "      <th>...</th>\n",
              "      <td>...</td>\n",
              "      <td>...</td>\n",
              "      <td>...</td>\n",
              "      <td>...</td>\n",
              "      <td>...</td>\n",
              "      <td>...</td>\n",
              "      <td>...</td>\n",
              "      <td>...</td>\n",
              "      <td>...</td>\n",
              "    </tr>\n",
              "    <tr>\n",
              "      <th>33970</th>\n",
              "      <td>2019-04-22</td>\n",
              "      <td>1120567851780378624</td>\n",
              "      <td>0</td>\n",
              "      <td>:(,:(</td>\n",
              "      <td>22</td>\n",
              "      <td>4</td>\n",
              "      <td>2019</td>\n",
              "      <td>2019-04</td>\n",
              "      <td>@Psycopathhh_ noted ate :(</td>\n",
              "    </tr>\n",
              "    <tr>\n",
              "      <th>33971</th>\n",
              "      <td>2019-04-22</td>\n",
              "      <td>1120567855978811392</td>\n",
              "      <td>1</td>\n",
              "      <td>😝</td>\n",
              "      <td>22</td>\n",
              "      <td>4</td>\n",
              "      <td>2019</td>\n",
              "      <td>2019-04</td>\n",
              "      <td>Craving something sweet, like donuts😝😝</td>\n",
              "    </tr>\n",
              "    <tr>\n",
              "      <th>33973</th>\n",
              "      <td>2019-04-22</td>\n",
              "      <td>1120567885305245696</td>\n",
              "      <td>1</td>\n",
              "      <td>😘</td>\n",
              "      <td>22</td>\n",
              "      <td>4</td>\n",
              "      <td>2019</td>\n",
              "      <td>2019-04</td>\n",
              "      <td>@paraadonat Miss you too 😘😂</td>\n",
              "    </tr>\n",
              "    <tr>\n",
              "      <th>33974</th>\n",
              "      <td>2019-04-22</td>\n",
              "      <td>1120567902095249408</td>\n",
              "      <td>0</td>\n",
              "      <td>😬</td>\n",
              "      <td>22</td>\n",
              "      <td>4</td>\n",
              "      <td>2019</td>\n",
              "      <td>2019-04</td>\n",
              "      <td>shidd mike b never even had one😬</td>\n",
              "    </tr>\n",
              "    <tr>\n",
              "      <th>33975</th>\n",
              "      <td>2019-04-22</td>\n",
              "      <td>1120567923066724352</td>\n",
              "      <td>1</td>\n",
              "      <td>👍</td>\n",
              "      <td>22</td>\n",
              "      <td>4</td>\n",
              "      <td>2019</td>\n",
              "      <td>2019-04</td>\n",
              "      <td>@issuingz @methodvendorsss @HakimiKimie12 @DDB...</td>\n",
              "    </tr>\n",
              "  </tbody>\n",
              "</table>\n",
              "<p>30311 rows × 9 columns</p>\n",
              "</div>\n",
              "      <button class=\"colab-df-convert\" onclick=\"convertToInteractive('df-0e19edc8-19f2-405f-8dd9-fb95bf2a2c7c')\"\n",
              "              title=\"Convert this dataframe to an interactive table.\"\n",
              "              style=\"display:none;\">\n",
              "        \n",
              "  <svg xmlns=\"http://www.w3.org/2000/svg\" height=\"24px\"viewBox=\"0 0 24 24\"\n",
              "       width=\"24px\">\n",
              "    <path d=\"M0 0h24v24H0V0z\" fill=\"none\"/>\n",
              "    <path d=\"M18.56 5.44l.94 2.06.94-2.06 2.06-.94-2.06-.94-.94-2.06-.94 2.06-2.06.94zm-11 1L8.5 8.5l.94-2.06 2.06-.94-2.06-.94L8.5 2.5l-.94 2.06-2.06.94zm10 10l.94 2.06.94-2.06 2.06-.94-2.06-.94-.94-2.06-.94 2.06-2.06.94z\"/><path d=\"M17.41 7.96l-1.37-1.37c-.4-.4-.92-.59-1.43-.59-.52 0-1.04.2-1.43.59L10.3 9.45l-7.72 7.72c-.78.78-.78 2.05 0 2.83L4 21.41c.39.39.9.59 1.41.59.51 0 1.02-.2 1.41-.59l7.78-7.78 2.81-2.81c.8-.78.8-2.07 0-2.86zM5.41 20L4 18.59l7.72-7.72 1.47 1.35L5.41 20z\"/>\n",
              "  </svg>\n",
              "      </button>\n",
              "      \n",
              "  <style>\n",
              "    .colab-df-container {\n",
              "      display:flex;\n",
              "      flex-wrap:wrap;\n",
              "      gap: 12px;\n",
              "    }\n",
              "\n",
              "    .colab-df-convert {\n",
              "      background-color: #E8F0FE;\n",
              "      border: none;\n",
              "      border-radius: 50%;\n",
              "      cursor: pointer;\n",
              "      display: none;\n",
              "      fill: #1967D2;\n",
              "      height: 32px;\n",
              "      padding: 0 0 0 0;\n",
              "      width: 32px;\n",
              "    }\n",
              "\n",
              "    .colab-df-convert:hover {\n",
              "      background-color: #E2EBFA;\n",
              "      box-shadow: 0px 1px 2px rgba(60, 64, 67, 0.3), 0px 1px 3px 1px rgba(60, 64, 67, 0.15);\n",
              "      fill: #174EA6;\n",
              "    }\n",
              "\n",
              "    [theme=dark] .colab-df-convert {\n",
              "      background-color: #3B4455;\n",
              "      fill: #D2E3FC;\n",
              "    }\n",
              "\n",
              "    [theme=dark] .colab-df-convert:hover {\n",
              "      background-color: #434B5C;\n",
              "      box-shadow: 0px 1px 3px 1px rgba(0, 0, 0, 0.15);\n",
              "      filter: drop-shadow(0px 1px 2px rgba(0, 0, 0, 0.3));\n",
              "      fill: #FFFFFF;\n",
              "    }\n",
              "  </style>\n",
              "\n",
              "      <script>\n",
              "        const buttonEl =\n",
              "          document.querySelector('#df-0e19edc8-19f2-405f-8dd9-fb95bf2a2c7c button.colab-df-convert');\n",
              "        buttonEl.style.display =\n",
              "          google.colab.kernel.accessAllowed ? 'block' : 'none';\n",
              "\n",
              "        async function convertToInteractive(key) {\n",
              "          const element = document.querySelector('#df-0e19edc8-19f2-405f-8dd9-fb95bf2a2c7c');\n",
              "          const dataTable =\n",
              "            await google.colab.kernel.invokeFunction('convertToInteractive',\n",
              "                                                     [key], {});\n",
              "          if (!dataTable) return;\n",
              "\n",
              "          const docLinkHtml = 'Like what you see? Visit the ' +\n",
              "            '<a target=\"_blank\" href=https://colab.research.google.com/notebooks/data_table.ipynb>data table notebook</a>'\n",
              "            + ' to learn more about interactive tables.';\n",
              "          element.innerHTML = '';\n",
              "          dataTable['output_type'] = 'display_data';\n",
              "          await google.colab.output.renderOutput(dataTable, element);\n",
              "          const docLink = document.createElement('div');\n",
              "          docLink.innerHTML = docLinkHtml;\n",
              "          element.appendChild(docLink);\n",
              "        }\n",
              "      </script>\n",
              "    </div>\n",
              "  </div>\n",
              "  "
            ]
          },
          "metadata": {},
          "execution_count": 76
        }
      ],
      "source": [
        "df"
      ]
    },
    {
      "cell_type": "markdown",
      "metadata": {
        "id": "nE2Z8J1Ruuvb"
      },
      "source": [
        "# 2. Split into train and test sets"
      ]
    },
    {
      "cell_type": "code",
      "execution_count": null,
      "metadata": {
        "id": "bZTi_OAkuuvc"
      },
      "outputs": [],
      "source": [
        "train_df, test_df = train_test_split(df, test_size = 0.2, random_state = SEED)"
      ]
    },
    {
      "cell_type": "code",
      "execution_count": null,
      "metadata": {
        "colab": {
          "base_uri": "https://localhost:8080/",
          "height": 455
        },
        "id": "TAyd9G0fuuvc",
        "outputId": "54ce2b43-70f8-40f1-c66c-63bdd86c106d"
      },
      "outputs": [
        {
          "output_type": "execute_result",
          "data": {
            "text/plain": [
              "      tweet_date             tweet_id  sentiment emojis  tweet_day  \\\n",
              "index                                                                \n",
              "4086  2019-04-22  1120278935525150720          0    😭,😭         22   \n",
              "13895 2019-04-08  1115434778654859264          0      😞          8   \n",
              "8045  2019-04-22  1120323957163548672          0      😩         22   \n",
              "27610 2019-04-22  1120500289902120960          0      🙃         22   \n",
              "17083 2019-04-08  1115470434420396032          1    😌,😌          8   \n",
              "...          ...                  ...        ...    ...        ...   \n",
              "15400 2019-04-08  1115450884782161920          1      😍          8   \n",
              "22619 2019-04-22  1120449773738315776          0      😬         22   \n",
              "22103 2019-04-22  1120444555986386944          0      😫         22   \n",
              "11629 2019-04-08  1115409898043576320          1    😌,😌          8   \n",
              "2839  2019-04-08  1115192675022581760          1      😍          8   \n",
              "\n",
              "       tweet_month  tweet_year tweet_year_month  \\\n",
              "index                                             \n",
              "4086             4        2019          2019-04   \n",
              "13895            4        2019          2019-04   \n",
              "8045             4        2019          2019-04   \n",
              "27610            4        2019          2019-04   \n",
              "17083            4        2019          2019-04   \n",
              "...            ...         ...              ...   \n",
              "15400            4        2019          2019-04   \n",
              "22619            4        2019          2019-04   \n",
              "22103            4        2019          2019-04   \n",
              "11629            4        2019          2019-04   \n",
              "2839             4        2019          2019-04   \n",
              "\n",
              "                                              tweet_text  \n",
              "index                                                     \n",
              "4086                       @jeonierals FCK PIPAY. FCK! 😭  \n",
              "13895                        Those late night thoughts 😞  \n",
              "8045   “EVERYBODY AIN’T PROUD OF U🎯\\nThey just surpri...  \n",
              "27610  @stefanypackk @SsssamanthaaMUA I just started ...  \n",
              "17083                            so help me, help you 😌🤝  \n",
              "...                                                  ...  \n",
              "15400                         @podgie_TV oh my goodness😍  \n",
              "22619  RT @LaQuica91: aretter de faire sortir votre c...  \n",
              "22103      @chandlerrkentt_ My baby 😫😫😫😫 fuck I love him  \n",
              "11629                           All I can do is smile 😌😌  \n",
              "2839   This little corner of Paris is oh so dreamy😍. ...  \n",
              "\n",
              "[24248 rows x 9 columns]"
            ],
            "text/html": [
              "\n",
              "  <div id=\"df-f5936e4b-74ee-4eaa-9cd4-48ed38ec6f69\">\n",
              "    <div class=\"colab-df-container\">\n",
              "      <div>\n",
              "<style scoped>\n",
              "    .dataframe tbody tr th:only-of-type {\n",
              "        vertical-align: middle;\n",
              "    }\n",
              "\n",
              "    .dataframe tbody tr th {\n",
              "        vertical-align: top;\n",
              "    }\n",
              "\n",
              "    .dataframe thead th {\n",
              "        text-align: right;\n",
              "    }\n",
              "</style>\n",
              "<table border=\"1\" class=\"dataframe\">\n",
              "  <thead>\n",
              "    <tr style=\"text-align: right;\">\n",
              "      <th></th>\n",
              "      <th>tweet_date</th>\n",
              "      <th>tweet_id</th>\n",
              "      <th>sentiment</th>\n",
              "      <th>emojis</th>\n",
              "      <th>tweet_day</th>\n",
              "      <th>tweet_month</th>\n",
              "      <th>tweet_year</th>\n",
              "      <th>tweet_year_month</th>\n",
              "      <th>tweet_text</th>\n",
              "    </tr>\n",
              "    <tr>\n",
              "      <th>index</th>\n",
              "      <th></th>\n",
              "      <th></th>\n",
              "      <th></th>\n",
              "      <th></th>\n",
              "      <th></th>\n",
              "      <th></th>\n",
              "      <th></th>\n",
              "      <th></th>\n",
              "      <th></th>\n",
              "    </tr>\n",
              "  </thead>\n",
              "  <tbody>\n",
              "    <tr>\n",
              "      <th>4086</th>\n",
              "      <td>2019-04-22</td>\n",
              "      <td>1120278935525150720</td>\n",
              "      <td>0</td>\n",
              "      <td>😭,😭</td>\n",
              "      <td>22</td>\n",
              "      <td>4</td>\n",
              "      <td>2019</td>\n",
              "      <td>2019-04</td>\n",
              "      <td>@jeonierals FCK PIPAY. FCK! 😭</td>\n",
              "    </tr>\n",
              "    <tr>\n",
              "      <th>13895</th>\n",
              "      <td>2019-04-08</td>\n",
              "      <td>1115434778654859264</td>\n",
              "      <td>0</td>\n",
              "      <td>😞</td>\n",
              "      <td>8</td>\n",
              "      <td>4</td>\n",
              "      <td>2019</td>\n",
              "      <td>2019-04</td>\n",
              "      <td>Those late night thoughts 😞</td>\n",
              "    </tr>\n",
              "    <tr>\n",
              "      <th>8045</th>\n",
              "      <td>2019-04-22</td>\n",
              "      <td>1120323957163548672</td>\n",
              "      <td>0</td>\n",
              "      <td>😩</td>\n",
              "      <td>22</td>\n",
              "      <td>4</td>\n",
              "      <td>2019</td>\n",
              "      <td>2019-04</td>\n",
              "      <td>“EVERYBODY AIN’T PROUD OF U🎯\\nThey just surpri...</td>\n",
              "    </tr>\n",
              "    <tr>\n",
              "      <th>27610</th>\n",
              "      <td>2019-04-22</td>\n",
              "      <td>1120500289902120960</td>\n",
              "      <td>0</td>\n",
              "      <td>🙃</td>\n",
              "      <td>22</td>\n",
              "      <td>4</td>\n",
              "      <td>2019</td>\n",
              "      <td>2019-04</td>\n",
              "      <td>@stefanypackk @SsssamanthaaMUA I just started ...</td>\n",
              "    </tr>\n",
              "    <tr>\n",
              "      <th>17083</th>\n",
              "      <td>2019-04-08</td>\n",
              "      <td>1115470434420396032</td>\n",
              "      <td>1</td>\n",
              "      <td>😌,😌</td>\n",
              "      <td>8</td>\n",
              "      <td>4</td>\n",
              "      <td>2019</td>\n",
              "      <td>2019-04</td>\n",
              "      <td>so help me, help you 😌🤝</td>\n",
              "    </tr>\n",
              "    <tr>\n",
              "      <th>...</th>\n",
              "      <td>...</td>\n",
              "      <td>...</td>\n",
              "      <td>...</td>\n",
              "      <td>...</td>\n",
              "      <td>...</td>\n",
              "      <td>...</td>\n",
              "      <td>...</td>\n",
              "      <td>...</td>\n",
              "      <td>...</td>\n",
              "    </tr>\n",
              "    <tr>\n",
              "      <th>15400</th>\n",
              "      <td>2019-04-08</td>\n",
              "      <td>1115450884782161920</td>\n",
              "      <td>1</td>\n",
              "      <td>😍</td>\n",
              "      <td>8</td>\n",
              "      <td>4</td>\n",
              "      <td>2019</td>\n",
              "      <td>2019-04</td>\n",
              "      <td>@podgie_TV oh my goodness😍</td>\n",
              "    </tr>\n",
              "    <tr>\n",
              "      <th>22619</th>\n",
              "      <td>2019-04-22</td>\n",
              "      <td>1120449773738315776</td>\n",
              "      <td>0</td>\n",
              "      <td>😬</td>\n",
              "      <td>22</td>\n",
              "      <td>4</td>\n",
              "      <td>2019</td>\n",
              "      <td>2019-04</td>\n",
              "      <td>RT @LaQuica91: aretter de faire sortir votre c...</td>\n",
              "    </tr>\n",
              "    <tr>\n",
              "      <th>22103</th>\n",
              "      <td>2019-04-22</td>\n",
              "      <td>1120444555986386944</td>\n",
              "      <td>0</td>\n",
              "      <td>😫</td>\n",
              "      <td>22</td>\n",
              "      <td>4</td>\n",
              "      <td>2019</td>\n",
              "      <td>2019-04</td>\n",
              "      <td>@chandlerrkentt_ My baby 😫😫😫😫 fuck I love him</td>\n",
              "    </tr>\n",
              "    <tr>\n",
              "      <th>11629</th>\n",
              "      <td>2019-04-08</td>\n",
              "      <td>1115409898043576320</td>\n",
              "      <td>1</td>\n",
              "      <td>😌,😌</td>\n",
              "      <td>8</td>\n",
              "      <td>4</td>\n",
              "      <td>2019</td>\n",
              "      <td>2019-04</td>\n",
              "      <td>All I can do is smile 😌😌</td>\n",
              "    </tr>\n",
              "    <tr>\n",
              "      <th>2839</th>\n",
              "      <td>2019-04-08</td>\n",
              "      <td>1115192675022581760</td>\n",
              "      <td>1</td>\n",
              "      <td>😍</td>\n",
              "      <td>8</td>\n",
              "      <td>4</td>\n",
              "      <td>2019</td>\n",
              "      <td>2019-04</td>\n",
              "      <td>This little corner of Paris is oh so dreamy😍. ...</td>\n",
              "    </tr>\n",
              "  </tbody>\n",
              "</table>\n",
              "<p>24248 rows × 9 columns</p>\n",
              "</div>\n",
              "      <button class=\"colab-df-convert\" onclick=\"convertToInteractive('df-f5936e4b-74ee-4eaa-9cd4-48ed38ec6f69')\"\n",
              "              title=\"Convert this dataframe to an interactive table.\"\n",
              "              style=\"display:none;\">\n",
              "        \n",
              "  <svg xmlns=\"http://www.w3.org/2000/svg\" height=\"24px\"viewBox=\"0 0 24 24\"\n",
              "       width=\"24px\">\n",
              "    <path d=\"M0 0h24v24H0V0z\" fill=\"none\"/>\n",
              "    <path d=\"M18.56 5.44l.94 2.06.94-2.06 2.06-.94-2.06-.94-.94-2.06-.94 2.06-2.06.94zm-11 1L8.5 8.5l.94-2.06 2.06-.94-2.06-.94L8.5 2.5l-.94 2.06-2.06.94zm10 10l.94 2.06.94-2.06 2.06-.94-2.06-.94-.94-2.06-.94 2.06-2.06.94z\"/><path d=\"M17.41 7.96l-1.37-1.37c-.4-.4-.92-.59-1.43-.59-.52 0-1.04.2-1.43.59L10.3 9.45l-7.72 7.72c-.78.78-.78 2.05 0 2.83L4 21.41c.39.39.9.59 1.41.59.51 0 1.02-.2 1.41-.59l7.78-7.78 2.81-2.81c.8-.78.8-2.07 0-2.86zM5.41 20L4 18.59l7.72-7.72 1.47 1.35L5.41 20z\"/>\n",
              "  </svg>\n",
              "      </button>\n",
              "      \n",
              "  <style>\n",
              "    .colab-df-container {\n",
              "      display:flex;\n",
              "      flex-wrap:wrap;\n",
              "      gap: 12px;\n",
              "    }\n",
              "\n",
              "    .colab-df-convert {\n",
              "      background-color: #E8F0FE;\n",
              "      border: none;\n",
              "      border-radius: 50%;\n",
              "      cursor: pointer;\n",
              "      display: none;\n",
              "      fill: #1967D2;\n",
              "      height: 32px;\n",
              "      padding: 0 0 0 0;\n",
              "      width: 32px;\n",
              "    }\n",
              "\n",
              "    .colab-df-convert:hover {\n",
              "      background-color: #E2EBFA;\n",
              "      box-shadow: 0px 1px 2px rgba(60, 64, 67, 0.3), 0px 1px 3px 1px rgba(60, 64, 67, 0.15);\n",
              "      fill: #174EA6;\n",
              "    }\n",
              "\n",
              "    [theme=dark] .colab-df-convert {\n",
              "      background-color: #3B4455;\n",
              "      fill: #D2E3FC;\n",
              "    }\n",
              "\n",
              "    [theme=dark] .colab-df-convert:hover {\n",
              "      background-color: #434B5C;\n",
              "      box-shadow: 0px 1px 3px 1px rgba(0, 0, 0, 0.15);\n",
              "      filter: drop-shadow(0px 1px 2px rgba(0, 0, 0, 0.3));\n",
              "      fill: #FFFFFF;\n",
              "    }\n",
              "  </style>\n",
              "\n",
              "      <script>\n",
              "        const buttonEl =\n",
              "          document.querySelector('#df-f5936e4b-74ee-4eaa-9cd4-48ed38ec6f69 button.colab-df-convert');\n",
              "        buttonEl.style.display =\n",
              "          google.colab.kernel.accessAllowed ? 'block' : 'none';\n",
              "\n",
              "        async function convertToInteractive(key) {\n",
              "          const element = document.querySelector('#df-f5936e4b-74ee-4eaa-9cd4-48ed38ec6f69');\n",
              "          const dataTable =\n",
              "            await google.colab.kernel.invokeFunction('convertToInteractive',\n",
              "                                                     [key], {});\n",
              "          if (!dataTable) return;\n",
              "\n",
              "          const docLinkHtml = 'Like what you see? Visit the ' +\n",
              "            '<a target=\"_blank\" href=https://colab.research.google.com/notebooks/data_table.ipynb>data table notebook</a>'\n",
              "            + ' to learn more about interactive tables.';\n",
              "          element.innerHTML = '';\n",
              "          dataTable['output_type'] = 'display_data';\n",
              "          await google.colab.output.renderOutput(dataTable, element);\n",
              "          const docLink = document.createElement('div');\n",
              "          docLink.innerHTML = docLinkHtml;\n",
              "          element.appendChild(docLink);\n",
              "        }\n",
              "      </script>\n",
              "    </div>\n",
              "  </div>\n",
              "  "
            ]
          },
          "metadata": {},
          "execution_count": 78
        }
      ],
      "source": [
        "train_df"
      ]
    },
    {
      "cell_type": "markdown",
      "metadata": {
        "id": "x594Rjs1uuvc"
      },
      "source": [
        "# 3. Get emojis from emotag 620\n",
        "We use emotag 620 emojis instead of all emojis in our dataset to avoid catastrophic forgetting when adding too many tokens. \n",
        "\n",
        "Citation:\n",
        "\n",
        "[\"When the datasets for pre-training and fine-tuning are too distant, for example\n",
        "two completely different languages, the weights of the model can revert to a random state and\n",
        "lead to the observation of the phenomena called catastrophic forgetting.\"](https://essay.utwente.nl/80128/1/Yeung_InteractionTechnology_EEMCS.pdf)"
      ]
    },
    {
      "cell_type": "code",
      "execution_count": null,
      "metadata": {
        "id": "GwlcL365uuvc"
      },
      "outputs": [],
      "source": [
        "emotag620_path = './emotag-dimension-as-emojis.txt'"
      ]
    },
    {
      "cell_type": "code",
      "execution_count": null,
      "metadata": {
        "id": "l4Vc3SETuuvd"
      },
      "outputs": [],
      "source": [
        "# read emojis from top emotag 620 and save as list\n",
        "with open(emotag620_path, 'r') as f:\n",
        "    emotag620_str = f.read()\n",
        "emotag620_list = emotag620_str.split()\n",
        "emotag620_list.remove('word')"
      ]
    },
    {
      "cell_type": "markdown",
      "metadata": {
        "id": "J_70z2zTuuvd"
      },
      "source": [
        "[Convert unicode 9f999 str to display emoji](https://stackoverflow.com/questions/69133311/unicode-for-an-emoji-in-a-string-variable-isnt-shown-as-the-emoji)"
      ]
    },
    {
      "cell_type": "code",
      "execution_count": null,
      "metadata": {
        "id": "25P8OZWKuuvd"
      },
      "outputs": [],
      "source": [
        "def unicode_to_emoji(unicode_str):\n",
        "    formated_str = f\"U{unicode_str.zfill(8)}\"\n",
        "    return chr(int(formated_str[1:], 16))\n",
        "\n",
        "emotag620_list = [unicode_to_emoji(x) for x in emotag620_list]"
      ]
    },
    {
      "cell_type": "code",
      "execution_count": null,
      "metadata": {
        "colab": {
          "base_uri": "https://localhost:8080/"
        },
        "id": "Df9Dh8pcuuvd",
        "outputId": "10a5f50b-6146-4ebc-db39-e72590ab9eae"
      },
      "outputs": [
        {
          "output_type": "execute_result",
          "data": {
            "text/plain": [
              "['🀄', '🃏', '🌀', '🌁', '🌂']"
            ]
          },
          "metadata": {},
          "execution_count": 82
        }
      ],
      "source": [
        "emotag620_list[:5]"
      ]
    },
    {
      "cell_type": "markdown",
      "metadata": {
        "id": "v8jmGkzcuuvd"
      },
      "source": [
        "# 4. Get unique emoticons in train `emojis` column\n",
        "(We don't have a way of finding emoticons in the text)"
      ]
    },
    {
      "cell_type": "code",
      "execution_count": null,
      "metadata": {
        "id": "WwMAFFhEuuve"
      },
      "outputs": [],
      "source": [
        "emoticons = set()\n",
        "for emoji_str in train_df['emojis'].values:\n",
        "    if ',' in emoji_str:\n",
        "        emoji_list = emoji_str.split(',')\n",
        "        for emoji in emoji_list:\n",
        "            if not emo.is_emoji(emoji):\n",
        "                emoticons.add(emoji)\n",
        "    else:\n",
        "        if not emo.is_emoji(emoji_str):\n",
        "            emoticons.add(emoji_str)\n",
        "emoticons = list(emoticons)"
      ]
    },
    {
      "cell_type": "code",
      "execution_count": null,
      "metadata": {
        "colab": {
          "base_uri": "https://localhost:8080/"
        },
        "id": "wNb0Bxsruuve",
        "outputId": "eb4526f4-454f-45c9-cccf-a14f53c67c6f"
      },
      "outputs": [
        {
          "output_type": "execute_result",
          "data": {
            "text/plain": [
              "[\":')\", ';)', 'D;', ':\\\\', '=]']"
            ]
          },
          "metadata": {},
          "execution_count": 84
        }
      ],
      "source": [
        "emoticons[:5]"
      ]
    },
    {
      "cell_type": "markdown",
      "metadata": {
        "id": "KJRuVIKNuuve"
      },
      "source": [
        "# 5. Demojize train & test sets, also emotag 620 emojis"
      ]
    },
    {
      "cell_type": "code",
      "execution_count": null,
      "metadata": {
        "id": "ip--Pb6Zuuve"
      },
      "outputs": [],
      "source": [
        "train_df['demojized_tweet_text'] = train_df['tweet_text'].apply(emo.demojize)\n",
        "test_df['demojized_tweet_text'] = test_df['tweet_text'].apply(emo.demojize)"
      ]
    },
    {
      "cell_type": "code",
      "execution_count": null,
      "metadata": {
        "colab": {
          "base_uri": "https://localhost:8080/",
          "height": 236
        },
        "id": "XoZj0Z2Puuve",
        "outputId": "44342dda-5973-49c9-eaad-9efdf46286ed"
      },
      "outputs": [
        {
          "output_type": "execute_result",
          "data": {
            "text/plain": [
              "      tweet_date             tweet_id  sentiment emojis  tweet_day  \\\n",
              "index                                                                \n",
              "4086  2019-04-22  1120278935525150720          0    😭,😭         22   \n",
              "13895 2019-04-08  1115434778654859264          0      😞          8   \n",
              "8045  2019-04-22  1120323957163548672          0      😩         22   \n",
              "\n",
              "       tweet_month  tweet_year tweet_year_month  \\\n",
              "index                                             \n",
              "4086             4        2019          2019-04   \n",
              "13895            4        2019          2019-04   \n",
              "8045             4        2019          2019-04   \n",
              "\n",
              "                                              tweet_text  \\\n",
              "index                                                      \n",
              "4086                       @jeonierals FCK PIPAY. FCK! 😭   \n",
              "13895                        Those late night thoughts 😞   \n",
              "8045   “EVERYBODY AIN’T PROUD OF U🎯\\nThey just surpri...   \n",
              "\n",
              "                                    demojized_tweet_text  \n",
              "index                                                     \n",
              "4086    @jeonierals FCK PIPAY. FCK! :loudly_crying_face:  \n",
              "13895      Those late night thoughts :disappointed_face:  \n",
              "8045   “EVERYBODY AIN’T PROUD OF U:bullseye:\\nThey ju...  "
            ],
            "text/html": [
              "\n",
              "  <div id=\"df-4ca0986c-ca7b-46c7-a93f-df746039832b\">\n",
              "    <div class=\"colab-df-container\">\n",
              "      <div>\n",
              "<style scoped>\n",
              "    .dataframe tbody tr th:only-of-type {\n",
              "        vertical-align: middle;\n",
              "    }\n",
              "\n",
              "    .dataframe tbody tr th {\n",
              "        vertical-align: top;\n",
              "    }\n",
              "\n",
              "    .dataframe thead th {\n",
              "        text-align: right;\n",
              "    }\n",
              "</style>\n",
              "<table border=\"1\" class=\"dataframe\">\n",
              "  <thead>\n",
              "    <tr style=\"text-align: right;\">\n",
              "      <th></th>\n",
              "      <th>tweet_date</th>\n",
              "      <th>tweet_id</th>\n",
              "      <th>sentiment</th>\n",
              "      <th>emojis</th>\n",
              "      <th>tweet_day</th>\n",
              "      <th>tweet_month</th>\n",
              "      <th>tweet_year</th>\n",
              "      <th>tweet_year_month</th>\n",
              "      <th>tweet_text</th>\n",
              "      <th>demojized_tweet_text</th>\n",
              "    </tr>\n",
              "    <tr>\n",
              "      <th>index</th>\n",
              "      <th></th>\n",
              "      <th></th>\n",
              "      <th></th>\n",
              "      <th></th>\n",
              "      <th></th>\n",
              "      <th></th>\n",
              "      <th></th>\n",
              "      <th></th>\n",
              "      <th></th>\n",
              "      <th></th>\n",
              "    </tr>\n",
              "  </thead>\n",
              "  <tbody>\n",
              "    <tr>\n",
              "      <th>4086</th>\n",
              "      <td>2019-04-22</td>\n",
              "      <td>1120278935525150720</td>\n",
              "      <td>0</td>\n",
              "      <td>😭,😭</td>\n",
              "      <td>22</td>\n",
              "      <td>4</td>\n",
              "      <td>2019</td>\n",
              "      <td>2019-04</td>\n",
              "      <td>@jeonierals FCK PIPAY. FCK! 😭</td>\n",
              "      <td>@jeonierals FCK PIPAY. FCK! :loudly_crying_face:</td>\n",
              "    </tr>\n",
              "    <tr>\n",
              "      <th>13895</th>\n",
              "      <td>2019-04-08</td>\n",
              "      <td>1115434778654859264</td>\n",
              "      <td>0</td>\n",
              "      <td>😞</td>\n",
              "      <td>8</td>\n",
              "      <td>4</td>\n",
              "      <td>2019</td>\n",
              "      <td>2019-04</td>\n",
              "      <td>Those late night thoughts 😞</td>\n",
              "      <td>Those late night thoughts :disappointed_face:</td>\n",
              "    </tr>\n",
              "    <tr>\n",
              "      <th>8045</th>\n",
              "      <td>2019-04-22</td>\n",
              "      <td>1120323957163548672</td>\n",
              "      <td>0</td>\n",
              "      <td>😩</td>\n",
              "      <td>22</td>\n",
              "      <td>4</td>\n",
              "      <td>2019</td>\n",
              "      <td>2019-04</td>\n",
              "      <td>“EVERYBODY AIN’T PROUD OF U🎯\\nThey just surpri...</td>\n",
              "      <td>“EVERYBODY AIN’T PROUD OF U:bullseye:\\nThey ju...</td>\n",
              "    </tr>\n",
              "  </tbody>\n",
              "</table>\n",
              "</div>\n",
              "      <button class=\"colab-df-convert\" onclick=\"convertToInteractive('df-4ca0986c-ca7b-46c7-a93f-df746039832b')\"\n",
              "              title=\"Convert this dataframe to an interactive table.\"\n",
              "              style=\"display:none;\">\n",
              "        \n",
              "  <svg xmlns=\"http://www.w3.org/2000/svg\" height=\"24px\"viewBox=\"0 0 24 24\"\n",
              "       width=\"24px\">\n",
              "    <path d=\"M0 0h24v24H0V0z\" fill=\"none\"/>\n",
              "    <path d=\"M18.56 5.44l.94 2.06.94-2.06 2.06-.94-2.06-.94-.94-2.06-.94 2.06-2.06.94zm-11 1L8.5 8.5l.94-2.06 2.06-.94-2.06-.94L8.5 2.5l-.94 2.06-2.06.94zm10 10l.94 2.06.94-2.06 2.06-.94-2.06-.94-.94-2.06-.94 2.06-2.06.94z\"/><path d=\"M17.41 7.96l-1.37-1.37c-.4-.4-.92-.59-1.43-.59-.52 0-1.04.2-1.43.59L10.3 9.45l-7.72 7.72c-.78.78-.78 2.05 0 2.83L4 21.41c.39.39.9.59 1.41.59.51 0 1.02-.2 1.41-.59l7.78-7.78 2.81-2.81c.8-.78.8-2.07 0-2.86zM5.41 20L4 18.59l7.72-7.72 1.47 1.35L5.41 20z\"/>\n",
              "  </svg>\n",
              "      </button>\n",
              "      \n",
              "  <style>\n",
              "    .colab-df-container {\n",
              "      display:flex;\n",
              "      flex-wrap:wrap;\n",
              "      gap: 12px;\n",
              "    }\n",
              "\n",
              "    .colab-df-convert {\n",
              "      background-color: #E8F0FE;\n",
              "      border: none;\n",
              "      border-radius: 50%;\n",
              "      cursor: pointer;\n",
              "      display: none;\n",
              "      fill: #1967D2;\n",
              "      height: 32px;\n",
              "      padding: 0 0 0 0;\n",
              "      width: 32px;\n",
              "    }\n",
              "\n",
              "    .colab-df-convert:hover {\n",
              "      background-color: #E2EBFA;\n",
              "      box-shadow: 0px 1px 2px rgba(60, 64, 67, 0.3), 0px 1px 3px 1px rgba(60, 64, 67, 0.15);\n",
              "      fill: #174EA6;\n",
              "    }\n",
              "\n",
              "    [theme=dark] .colab-df-convert {\n",
              "      background-color: #3B4455;\n",
              "      fill: #D2E3FC;\n",
              "    }\n",
              "\n",
              "    [theme=dark] .colab-df-convert:hover {\n",
              "      background-color: #434B5C;\n",
              "      box-shadow: 0px 1px 3px 1px rgba(0, 0, 0, 0.15);\n",
              "      filter: drop-shadow(0px 1px 2px rgba(0, 0, 0, 0.3));\n",
              "      fill: #FFFFFF;\n",
              "    }\n",
              "  </style>\n",
              "\n",
              "      <script>\n",
              "        const buttonEl =\n",
              "          document.querySelector('#df-4ca0986c-ca7b-46c7-a93f-df746039832b button.colab-df-convert');\n",
              "        buttonEl.style.display =\n",
              "          google.colab.kernel.accessAllowed ? 'block' : 'none';\n",
              "\n",
              "        async function convertToInteractive(key) {\n",
              "          const element = document.querySelector('#df-4ca0986c-ca7b-46c7-a93f-df746039832b');\n",
              "          const dataTable =\n",
              "            await google.colab.kernel.invokeFunction('convertToInteractive',\n",
              "                                                     [key], {});\n",
              "          if (!dataTable) return;\n",
              "\n",
              "          const docLinkHtml = 'Like what you see? Visit the ' +\n",
              "            '<a target=\"_blank\" href=https://colab.research.google.com/notebooks/data_table.ipynb>data table notebook</a>'\n",
              "            + ' to learn more about interactive tables.';\n",
              "          element.innerHTML = '';\n",
              "          dataTable['output_type'] = 'display_data';\n",
              "          await google.colab.output.renderOutput(dataTable, element);\n",
              "          const docLink = document.createElement('div');\n",
              "          docLink.innerHTML = docLinkHtml;\n",
              "          element.appendChild(docLink);\n",
              "        }\n",
              "      </script>\n",
              "    </div>\n",
              "  </div>\n",
              "  "
            ]
          },
          "metadata": {},
          "execution_count": 86
        }
      ],
      "source": [
        "train_df.head(3)"
      ]
    },
    {
      "cell_type": "code",
      "execution_count": null,
      "metadata": {
        "id": "6JNhm4H5uuve"
      },
      "outputs": [],
      "source": [
        "demojized_emotag620 = [emo.demojize(x) for x in emotag620_list]"
      ]
    },
    {
      "cell_type": "code",
      "execution_count": null,
      "metadata": {
        "colab": {
          "base_uri": "https://localhost:8080/"
        },
        "id": "dMoeNj1Uuuve",
        "outputId": "e0651665-277e-423b-a03f-ee68ef7bf1d7"
      },
      "outputs": [
        {
          "output_type": "execute_result",
          "data": {
            "text/plain": [
              "[':mahjong_red_dragon:',\n",
              " ':joker:',\n",
              " ':cyclone:',\n",
              " ':foggy:',\n",
              " ':closed_umbrella:']"
            ]
          },
          "metadata": {},
          "execution_count": 88
        }
      ],
      "source": [
        "demojized_emotag620[:5]"
      ]
    },
    {
      "cell_type": "markdown",
      "metadata": {
        "id": "wBh4eEu6uuvf"
      },
      "source": [
        "# 6. Create a dict for emoticons and apply a similar \"demojize\" operation in same fashion as 5."
      ]
    },
    {
      "cell_type": "code",
      "execution_count": null,
      "metadata": {
        "id": "d113oPRvuuvf"
      },
      "outputs": [],
      "source": [
        "demojize_emoticon_names = []\n",
        "for i in range(len(emoticons)):\n",
        "    key_name = f\":emoticon{i + 1}:\"\n",
        "    demojize_emoticon_names.append(key_name)\n",
        "emoticon_dict = dict(zip(emoticons, demojize_emoticon_names))"
      ]
    },
    {
      "cell_type": "code",
      "execution_count": null,
      "metadata": {
        "colab": {
          "base_uri": "https://localhost:8080/"
        },
        "id": "f2xr3ohTuuvf",
        "outputId": "65a166b9-91aa-49ff-b21d-dd79466306ab"
      },
      "outputs": [
        {
          "output_type": "execute_result",
          "data": {
            "text/plain": [
              "{\":')\": ':emoticon1:',\n",
              " ';)': ':emoticon2:',\n",
              " 'D;': ':emoticon3:',\n",
              " ':\\\\': ':emoticon4:',\n",
              " '=]': ':emoticon5:'}"
            ]
          },
          "metadata": {},
          "execution_count": 90
        }
      ],
      "source": [
        "dict(list(emoticon_dict.items())[:5])"
      ]
    },
    {
      "cell_type": "code",
      "execution_count": null,
      "metadata": {
        "id": "BOsP5J8muuvf"
      },
      "outputs": [],
      "source": [
        "def replace_emoticon_with_name(tweet, emoticon_dict):\n",
        "    for key in emoticon_dict:\n",
        "        tweet = tweet.replace(key, emoticon_dict[key])\n",
        "    return tweet"
      ]
    },
    {
      "cell_type": "code",
      "execution_count": null,
      "metadata": {
        "id": "YNoZl3OPuuvf"
      },
      "outputs": [],
      "source": [
        "train_df['demojized_tweet_text'] = train_df['demojized_tweet_text'].apply(replace_emoticon_with_name, emoticon_dict=emoticon_dict)\n",
        "test_df['demojized_tweet_text'] = test_df['demojized_tweet_text'].apply(replace_emoticon_with_name, emoticon_dict=emoticon_dict)"
      ]
    },
    {
      "cell_type": "code",
      "execution_count": null,
      "metadata": {
        "colab": {
          "base_uri": "https://localhost:8080/",
          "height": 236
        },
        "id": "Nt3GWR-ouuvf",
        "outputId": "d491c23d-72c6-4ff7-d747-46fcef101ece"
      },
      "outputs": [
        {
          "output_type": "execute_result",
          "data": {
            "text/plain": [
              "      tweet_date             tweet_id  sentiment emojis  tweet_day  \\\n",
              "index                                                                \n",
              "4086  2019-04-22  1120278935525150720          0    😭,😭         22   \n",
              "13895 2019-04-08  1115434778654859264          0      😞          8   \n",
              "8045  2019-04-22  1120323957163548672          0      😩         22   \n",
              "\n",
              "       tweet_month  tweet_year tweet_year_month  \\\n",
              "index                                             \n",
              "4086             4        2019          2019-04   \n",
              "13895            4        2019          2019-04   \n",
              "8045             4        2019          2019-04   \n",
              "\n",
              "                                              tweet_text  \\\n",
              "index                                                      \n",
              "4086                       @jeonierals FCK PIPAY. FCK! 😭   \n",
              "13895                        Those late night thoughts 😞   \n",
              "8045   “EVERYBODY AIN’T PROUD OF U🎯\\nThey just surpri...   \n",
              "\n",
              "                                    demojized_tweet_text  \n",
              "index                                                     \n",
              "4086    @jeonierals FCK PIPAY. FCK! :loudly_crying_face:  \n",
              "13895      Those late night thoughts :disappointed_face:  \n",
              "8045   “EVERYBODY AIN’T PROUD OF U:bullseye:\\nThey ju...  "
            ],
            "text/html": [
              "\n",
              "  <div id=\"df-da65ea79-407e-46e8-8f7e-a91bec8257b9\">\n",
              "    <div class=\"colab-df-container\">\n",
              "      <div>\n",
              "<style scoped>\n",
              "    .dataframe tbody tr th:only-of-type {\n",
              "        vertical-align: middle;\n",
              "    }\n",
              "\n",
              "    .dataframe tbody tr th {\n",
              "        vertical-align: top;\n",
              "    }\n",
              "\n",
              "    .dataframe thead th {\n",
              "        text-align: right;\n",
              "    }\n",
              "</style>\n",
              "<table border=\"1\" class=\"dataframe\">\n",
              "  <thead>\n",
              "    <tr style=\"text-align: right;\">\n",
              "      <th></th>\n",
              "      <th>tweet_date</th>\n",
              "      <th>tweet_id</th>\n",
              "      <th>sentiment</th>\n",
              "      <th>emojis</th>\n",
              "      <th>tweet_day</th>\n",
              "      <th>tweet_month</th>\n",
              "      <th>tweet_year</th>\n",
              "      <th>tweet_year_month</th>\n",
              "      <th>tweet_text</th>\n",
              "      <th>demojized_tweet_text</th>\n",
              "    </tr>\n",
              "    <tr>\n",
              "      <th>index</th>\n",
              "      <th></th>\n",
              "      <th></th>\n",
              "      <th></th>\n",
              "      <th></th>\n",
              "      <th></th>\n",
              "      <th></th>\n",
              "      <th></th>\n",
              "      <th></th>\n",
              "      <th></th>\n",
              "      <th></th>\n",
              "    </tr>\n",
              "  </thead>\n",
              "  <tbody>\n",
              "    <tr>\n",
              "      <th>4086</th>\n",
              "      <td>2019-04-22</td>\n",
              "      <td>1120278935525150720</td>\n",
              "      <td>0</td>\n",
              "      <td>😭,😭</td>\n",
              "      <td>22</td>\n",
              "      <td>4</td>\n",
              "      <td>2019</td>\n",
              "      <td>2019-04</td>\n",
              "      <td>@jeonierals FCK PIPAY. FCK! 😭</td>\n",
              "      <td>@jeonierals FCK PIPAY. FCK! :loudly_crying_face:</td>\n",
              "    </tr>\n",
              "    <tr>\n",
              "      <th>13895</th>\n",
              "      <td>2019-04-08</td>\n",
              "      <td>1115434778654859264</td>\n",
              "      <td>0</td>\n",
              "      <td>😞</td>\n",
              "      <td>8</td>\n",
              "      <td>4</td>\n",
              "      <td>2019</td>\n",
              "      <td>2019-04</td>\n",
              "      <td>Those late night thoughts 😞</td>\n",
              "      <td>Those late night thoughts :disappointed_face:</td>\n",
              "    </tr>\n",
              "    <tr>\n",
              "      <th>8045</th>\n",
              "      <td>2019-04-22</td>\n",
              "      <td>1120323957163548672</td>\n",
              "      <td>0</td>\n",
              "      <td>😩</td>\n",
              "      <td>22</td>\n",
              "      <td>4</td>\n",
              "      <td>2019</td>\n",
              "      <td>2019-04</td>\n",
              "      <td>“EVERYBODY AIN’T PROUD OF U🎯\\nThey just surpri...</td>\n",
              "      <td>“EVERYBODY AIN’T PROUD OF U:bullseye:\\nThey ju...</td>\n",
              "    </tr>\n",
              "  </tbody>\n",
              "</table>\n",
              "</div>\n",
              "      <button class=\"colab-df-convert\" onclick=\"convertToInteractive('df-da65ea79-407e-46e8-8f7e-a91bec8257b9')\"\n",
              "              title=\"Convert this dataframe to an interactive table.\"\n",
              "              style=\"display:none;\">\n",
              "        \n",
              "  <svg xmlns=\"http://www.w3.org/2000/svg\" height=\"24px\"viewBox=\"0 0 24 24\"\n",
              "       width=\"24px\">\n",
              "    <path d=\"M0 0h24v24H0V0z\" fill=\"none\"/>\n",
              "    <path d=\"M18.56 5.44l.94 2.06.94-2.06 2.06-.94-2.06-.94-.94-2.06-.94 2.06-2.06.94zm-11 1L8.5 8.5l.94-2.06 2.06-.94-2.06-.94L8.5 2.5l-.94 2.06-2.06.94zm10 10l.94 2.06.94-2.06 2.06-.94-2.06-.94-.94-2.06-.94 2.06-2.06.94z\"/><path d=\"M17.41 7.96l-1.37-1.37c-.4-.4-.92-.59-1.43-.59-.52 0-1.04.2-1.43.59L10.3 9.45l-7.72 7.72c-.78.78-.78 2.05 0 2.83L4 21.41c.39.39.9.59 1.41.59.51 0 1.02-.2 1.41-.59l7.78-7.78 2.81-2.81c.8-.78.8-2.07 0-2.86zM5.41 20L4 18.59l7.72-7.72 1.47 1.35L5.41 20z\"/>\n",
              "  </svg>\n",
              "      </button>\n",
              "      \n",
              "  <style>\n",
              "    .colab-df-container {\n",
              "      display:flex;\n",
              "      flex-wrap:wrap;\n",
              "      gap: 12px;\n",
              "    }\n",
              "\n",
              "    .colab-df-convert {\n",
              "      background-color: #E8F0FE;\n",
              "      border: none;\n",
              "      border-radius: 50%;\n",
              "      cursor: pointer;\n",
              "      display: none;\n",
              "      fill: #1967D2;\n",
              "      height: 32px;\n",
              "      padding: 0 0 0 0;\n",
              "      width: 32px;\n",
              "    }\n",
              "\n",
              "    .colab-df-convert:hover {\n",
              "      background-color: #E2EBFA;\n",
              "      box-shadow: 0px 1px 2px rgba(60, 64, 67, 0.3), 0px 1px 3px 1px rgba(60, 64, 67, 0.15);\n",
              "      fill: #174EA6;\n",
              "    }\n",
              "\n",
              "    [theme=dark] .colab-df-convert {\n",
              "      background-color: #3B4455;\n",
              "      fill: #D2E3FC;\n",
              "    }\n",
              "\n",
              "    [theme=dark] .colab-df-convert:hover {\n",
              "      background-color: #434B5C;\n",
              "      box-shadow: 0px 1px 3px 1px rgba(0, 0, 0, 0.15);\n",
              "      filter: drop-shadow(0px 1px 2px rgba(0, 0, 0, 0.3));\n",
              "      fill: #FFFFFF;\n",
              "    }\n",
              "  </style>\n",
              "\n",
              "      <script>\n",
              "        const buttonEl =\n",
              "          document.querySelector('#df-da65ea79-407e-46e8-8f7e-a91bec8257b9 button.colab-df-convert');\n",
              "        buttonEl.style.display =\n",
              "          google.colab.kernel.accessAllowed ? 'block' : 'none';\n",
              "\n",
              "        async function convertToInteractive(key) {\n",
              "          const element = document.querySelector('#df-da65ea79-407e-46e8-8f7e-a91bec8257b9');\n",
              "          const dataTable =\n",
              "            await google.colab.kernel.invokeFunction('convertToInteractive',\n",
              "                                                     [key], {});\n",
              "          if (!dataTable) return;\n",
              "\n",
              "          const docLinkHtml = 'Like what you see? Visit the ' +\n",
              "            '<a target=\"_blank\" href=https://colab.research.google.com/notebooks/data_table.ipynb>data table notebook</a>'\n",
              "            + ' to learn more about interactive tables.';\n",
              "          element.innerHTML = '';\n",
              "          dataTable['output_type'] = 'display_data';\n",
              "          await google.colab.output.renderOutput(dataTable, element);\n",
              "          const docLink = document.createElement('div');\n",
              "          docLink.innerHTML = docLinkHtml;\n",
              "          element.appendChild(docLink);\n",
              "        }\n",
              "      </script>\n",
              "    </div>\n",
              "  </div>\n",
              "  "
            ]
          },
          "metadata": {},
          "execution_count": 93
        }
      ],
      "source": [
        "train_df.head(3)"
      ]
    },
    {
      "cell_type": "markdown",
      "metadata": {
        "id": "Q6k6cgmLuuvg"
      },
      "source": [
        "# 7. Add demojized emotag 620 emojis and emoticons to tokenizer and resize BERT"
      ]
    },
    {
      "cell_type": "code",
      "execution_count": null,
      "metadata": {
        "colab": {
          "base_uri": "https://localhost:8080/"
        },
        "id": "vKxBzxTnuuvg",
        "outputId": "a8dae1a6-f036-45bd-aaaf-8f096972b6f6"
      },
      "outputs": [
        {
          "output_type": "stream",
          "name": "stderr",
          "text": [
            "loading configuration file config.json from cache at /root/.cache/huggingface/hub/models--bert-base-cased/snapshots/5532cc56f74641d4bb33641f5c76a55d11f846e0/config.json\n",
            "Model config BertConfig {\n",
            "  \"_name_or_path\": \"bert-base-cased\",\n",
            "  \"architectures\": [\n",
            "    \"BertForMaskedLM\"\n",
            "  ],\n",
            "  \"attention_probs_dropout_prob\": 0.1,\n",
            "  \"classifier_dropout\": null,\n",
            "  \"gradient_checkpointing\": false,\n",
            "  \"hidden_act\": \"gelu\",\n",
            "  \"hidden_dropout_prob\": 0.1,\n",
            "  \"hidden_size\": 768,\n",
            "  \"initializer_range\": 0.02,\n",
            "  \"intermediate_size\": 3072,\n",
            "  \"layer_norm_eps\": 1e-12,\n",
            "  \"max_position_embeddings\": 512,\n",
            "  \"model_type\": \"bert\",\n",
            "  \"num_attention_heads\": 12,\n",
            "  \"num_hidden_layers\": 12,\n",
            "  \"pad_token_id\": 0,\n",
            "  \"position_embedding_type\": \"absolute\",\n",
            "  \"transformers_version\": \"4.25.1\",\n",
            "  \"type_vocab_size\": 2,\n",
            "  \"use_cache\": true,\n",
            "  \"vocab_size\": 28996\n",
            "}\n",
            "\n",
            "loading file vocab.txt from cache at /root/.cache/huggingface/hub/models--bert-base-cased/snapshots/5532cc56f74641d4bb33641f5c76a55d11f846e0/vocab.txt\n",
            "loading file tokenizer.json from cache at /root/.cache/huggingface/hub/models--bert-base-cased/snapshots/5532cc56f74641d4bb33641f5c76a55d11f846e0/tokenizer.json\n",
            "loading file added_tokens.json from cache at None\n",
            "loading file special_tokens_map.json from cache at None\n",
            "loading file tokenizer_config.json from cache at /root/.cache/huggingface/hub/models--bert-base-cased/snapshots/5532cc56f74641d4bb33641f5c76a55d11f846e0/tokenizer_config.json\n",
            "loading configuration file config.json from cache at /root/.cache/huggingface/hub/models--bert-base-cased/snapshots/5532cc56f74641d4bb33641f5c76a55d11f846e0/config.json\n",
            "Model config BertConfig {\n",
            "  \"_name_or_path\": \"bert-base-cased\",\n",
            "  \"architectures\": [\n",
            "    \"BertForMaskedLM\"\n",
            "  ],\n",
            "  \"attention_probs_dropout_prob\": 0.1,\n",
            "  \"classifier_dropout\": null,\n",
            "  \"gradient_checkpointing\": false,\n",
            "  \"hidden_act\": \"gelu\",\n",
            "  \"hidden_dropout_prob\": 0.1,\n",
            "  \"hidden_size\": 768,\n",
            "  \"initializer_range\": 0.02,\n",
            "  \"intermediate_size\": 3072,\n",
            "  \"layer_norm_eps\": 1e-12,\n",
            "  \"max_position_embeddings\": 512,\n",
            "  \"model_type\": \"bert\",\n",
            "  \"num_attention_heads\": 12,\n",
            "  \"num_hidden_layers\": 12,\n",
            "  \"pad_token_id\": 0,\n",
            "  \"position_embedding_type\": \"absolute\",\n",
            "  \"transformers_version\": \"4.25.1\",\n",
            "  \"type_vocab_size\": 2,\n",
            "  \"use_cache\": true,\n",
            "  \"vocab_size\": 28996\n",
            "}\n",
            "\n",
            "loading configuration file config.json from cache at /root/.cache/huggingface/hub/models--bert-base-cased/snapshots/5532cc56f74641d4bb33641f5c76a55d11f846e0/config.json\n",
            "Model config BertConfig {\n",
            "  \"_name_or_path\": \"bert-base-cased\",\n",
            "  \"architectures\": [\n",
            "    \"BertForMaskedLM\"\n",
            "  ],\n",
            "  \"attention_probs_dropout_prob\": 0.1,\n",
            "  \"classifier_dropout\": null,\n",
            "  \"gradient_checkpointing\": false,\n",
            "  \"hidden_act\": \"gelu\",\n",
            "  \"hidden_dropout_prob\": 0.1,\n",
            "  \"hidden_size\": 768,\n",
            "  \"initializer_range\": 0.02,\n",
            "  \"intermediate_size\": 3072,\n",
            "  \"layer_norm_eps\": 1e-12,\n",
            "  \"max_position_embeddings\": 512,\n",
            "  \"model_type\": \"bert\",\n",
            "  \"num_attention_heads\": 12,\n",
            "  \"num_hidden_layers\": 12,\n",
            "  \"pad_token_id\": 0,\n",
            "  \"position_embedding_type\": \"absolute\",\n",
            "  \"transformers_version\": \"4.25.1\",\n",
            "  \"type_vocab_size\": 2,\n",
            "  \"use_cache\": true,\n",
            "  \"vocab_size\": 28996\n",
            "}\n",
            "\n",
            "loading weights file pytorch_model.bin from cache at /root/.cache/huggingface/hub/models--bert-base-cased/snapshots/5532cc56f74641d4bb33641f5c76a55d11f846e0/pytorch_model.bin\n",
            "Some weights of the model checkpoint at bert-base-cased were not used when initializing BertForSequenceClassification: ['cls.predictions.transform.dense.bias', 'cls.predictions.transform.LayerNorm.weight', 'cls.predictions.decoder.weight', 'cls.predictions.transform.LayerNorm.bias', 'cls.seq_relationship.bias', 'cls.predictions.transform.dense.weight', 'cls.predictions.bias', 'cls.seq_relationship.weight']\n",
            "- This IS expected if you are initializing BertForSequenceClassification from the checkpoint of a model trained on another task or with another architecture (e.g. initializing a BertForSequenceClassification model from a BertForPreTraining model).\n",
            "- This IS NOT expected if you are initializing BertForSequenceClassification from the checkpoint of a model that you expect to be exactly identical (initializing a BertForSequenceClassification model from a BertForSequenceClassification model).\n",
            "Some weights of BertForSequenceClassification were not initialized from the model checkpoint at bert-base-cased and are newly initialized: ['classifier.weight', 'classifier.bias']\n",
            "You should probably TRAIN this model on a down-stream task to be able to use it for predictions and inference.\n"
          ]
        }
      ],
      "source": [
        "model = \"bert-base-cased\"\n",
        "tokenizer = AutoTokenizer.from_pretrained(model, use_fast = True)\n",
        "model = AutoModelForSequenceClassification.from_pretrained(model)"
      ]
    },
    {
      "cell_type": "code",
      "execution_count": null,
      "metadata": {
        "colab": {
          "base_uri": "https://localhost:8080/"
        },
        "id": "BrdXxcXAuuvg",
        "outputId": "bee0bb31-6310-45ea-8280-a00cc7f52cef"
      },
      "outputs": [
        {
          "output_type": "stream",
          "name": "stdout",
          "text": [
            "[':mahjong_red_dragon:', ':joker:', ':cyclone:']\n",
            "[':emoticon30:', ':emoticon31:', ':emoticon32:']\n"
          ]
        }
      ],
      "source": [
        "new_tokens = demojized_emotag620 + demojize_emoticon_names\n",
        "print(new_tokens[:3])\n",
        "print(new_tokens[-3:])"
      ]
    },
    {
      "cell_type": "code",
      "execution_count": null,
      "metadata": {
        "colab": {
          "base_uri": "https://localhost:8080/"
        },
        "id": "OfWAATsRuuvg",
        "outputId": "b74dd56b-5af0-406a-8069-4cd3dfbe57a6"
      },
      "outputs": [
        {
          "output_type": "stream",
          "name": "stdout",
          "text": [
            "Added 652, tokens\n"
          ]
        },
        {
          "output_type": "execute_result",
          "data": {
            "text/plain": [
              "Embedding(29648, 768)"
            ]
          },
          "metadata": {},
          "execution_count": 96
        }
      ],
      "source": [
        "num_add_toks = tokenizer.add_tokens(new_tokens)\n",
        "print(f\"Added {num_add_toks}, tokens\")\n",
        "model.resize_token_embeddings(len(tokenizer))"
      ]
    },
    {
      "cell_type": "markdown",
      "metadata": {
        "id": "svrKJcPzuuvh"
      },
      "source": [
        "# 8. Perform Sentiment Analysis"
      ]
    },
    {
      "cell_type": "code",
      "source": [
        "device = 'cuda:0' if torch.cuda.is_available() else 'cpu'\n",
        "model = model.to(device)"
      ],
      "metadata": {
        "id": "5Wt4L6gFxe-x"
      },
      "execution_count": null,
      "outputs": []
    },
    {
      "cell_type": "code",
      "execution_count": null,
      "metadata": {
        "id": "rnKSUh0Cuuvh"
      },
      "outputs": [],
      "source": [
        "train_texts = train_df['demojized_tweet_text'].values.tolist()\n",
        "train_labels = train_df['sentiment'].values.tolist()\n",
        "test_texts = test_df['demojized_tweet_text'].values.tolist()\n",
        "test_labels = test_df['sentiment'].values.tolist()"
      ]
    },
    {
      "cell_type": "code",
      "execution_count": null,
      "metadata": {
        "id": "O66NTEQ_uuvh"
      },
      "outputs": [],
      "source": [
        "train_encodings = tokenizer(train_texts, truncation=True, padding=True, return_tensors='pt').to(device)\n",
        "test_encodings = tokenizer(test_texts, truncation=True, padding=True, return_tensors='pt').to(device)"
      ]
    },
    {
      "cell_type": "code",
      "execution_count": null,
      "metadata": {
        "id": "m1GQJSr9uuvh"
      },
      "outputs": [],
      "source": [
        "class SentimentDataset(Dataset):\n",
        "    def __init__(self, encodings, labels):\n",
        "        self.encodings = encodings\n",
        "        self.labels = labels\n",
        "\n",
        "    def __getitem__(self, idx):\n",
        "        item = {key: torch.tensor(val[idx]) for key, val in self.encodings.items()}\n",
        "        item['labels'] = torch.tensor(self.labels[idx])\n",
        "        return item\n",
        "    \n",
        "    def __len__(self):\n",
        "        return len(self.labels)"
      ]
    },
    {
      "cell_type": "code",
      "execution_count": null,
      "metadata": {
        "id": "yfq6IdAEuuvh"
      },
      "outputs": [],
      "source": [
        "train_dataset = SentimentDataset(train_encodings, train_labels)\n",
        "test_dataset = SentimentDataset(test_encodings, test_labels)"
      ]
    },
    {
      "cell_type": "code",
      "execution_count": null,
      "metadata": {
        "id": "HRHwNsx0uuvi"
      },
      "outputs": [],
      "source": [
        "def compute_metrics(p):\n",
        "    pred, labels = p\n",
        "    pred = np.argmax(pred, axis = 1)\n",
        "    \n",
        "    accuracy = accuracy_score(y_true = labels, y_pred = pred)\n",
        "    recall = recall_score(y_true=labels, y_pred=pred)\n",
        "    precision = precision_score(y_true=labels, y_pred=pred)\n",
        "    f1 = f1_score(labels, pred, average='weighted')\n",
        "\n",
        "    return {\"accuracy\": accuracy,\"recall\": recall, \"precision\": precision,\"f1_score\":f1}"
      ]
    },
    {
      "cell_type": "code",
      "execution_count": null,
      "metadata": {
        "colab": {
          "base_uri": "https://localhost:8080/"
        },
        "id": "fBapfvatuuvi",
        "outputId": "205f24d0-81b4-4a23-861d-3fd921ff85cc"
      },
      "outputs": [
        {
          "output_type": "stream",
          "name": "stderr",
          "text": [
            "using `logging_steps` to initialize `eval_steps` to 500\n",
            "PyTorch: setting up devices\n",
            "The default value for the training argument `--report_to` will change in v5 (from all installed integrations to none). In v5, you will need to use `--report_to all` to get the same behavior as now. You should start updating your code and make this info disappear :-).\n"
          ]
        }
      ],
      "source": [
        "training_args = TrainingArguments(\n",
        "    output_dir='./res',          # output directory\n",
        "    evaluation_strategy=\"steps\",\n",
        "    num_train_epochs=5,              # total number of training epochs\n",
        "    per_device_train_batch_size=32,  # batch size per device during training\n",
        "    per_device_eval_batch_size=64,   # batch size for evaluation\n",
        "    warmup_steps=500,                # number of warmup steps for learning rate scheduler\n",
        "    weight_decay=0.01,               # strength of weight decay\n",
        "    logging_dir='./logs4',            # directory for storing logs\n",
        "    load_best_model_at_end=True,\n",
        "    dataloader_pin_memory=False\n",
        ")"
      ]
    },
    {
      "cell_type": "code",
      "execution_count": null,
      "metadata": {
        "colab": {
          "base_uri": "https://localhost:8080/",
          "height": 1000
        },
        "id": "cQSdkgnYuuvi",
        "outputId": "64a335d3-ee1f-4fe9-9687-998019a5fb8a"
      },
      "outputs": [
        {
          "output_type": "stream",
          "name": "stderr",
          "text": [
            "/usr/local/lib/python3.8/dist-packages/transformers/optimization.py:306: FutureWarning: This implementation of AdamW is deprecated and will be removed in a future version. Use the PyTorch implementation torch.optim.AdamW instead, or set `no_deprecation_warning=True` to disable this warning\n",
            "  warnings.warn(\n",
            "***** Running training *****\n",
            "  Num examples = 24248\n",
            "  Num Epochs = 5\n",
            "  Instantaneous batch size per device = 32\n",
            "  Total train batch size (w. parallel, distributed & accumulation) = 32\n",
            "  Gradient Accumulation steps = 1\n",
            "  Total optimization steps = 3790\n",
            "  Number of trainable parameters = 108812546\n",
            "<ipython-input-100-59abc277c9d1>:7: UserWarning: To copy construct from a tensor, it is recommended to use sourceTensor.clone().detach() or sourceTensor.clone().detach().requires_grad_(True), rather than torch.tensor(sourceTensor).\n",
            "  item = {key: torch.tensor(val[idx]) for key, val in self.encodings.items()}\n"
          ]
        },
        {
          "output_type": "display_data",
          "data": {
            "text/plain": [
              "<IPython.core.display.HTML object>"
            ],
            "text/html": [
              "\n",
              "    <div>\n",
              "      \n",
              "      <progress value='3790' max='3790' style='width:300px; height:20px; vertical-align: middle;'></progress>\n",
              "      [3790/3790 2:09:13, Epoch 5/5]\n",
              "    </div>\n",
              "    <table border=\"1\" class=\"dataframe\">\n",
              "  <thead>\n",
              " <tr style=\"text-align: left;\">\n",
              "      <th>Step</th>\n",
              "      <th>Training Loss</th>\n",
              "      <th>Validation Loss</th>\n",
              "      <th>Accuracy</th>\n",
              "      <th>Recall</th>\n",
              "      <th>Precision</th>\n",
              "      <th>F1 Score</th>\n",
              "    </tr>\n",
              "  </thead>\n",
              "  <tbody>\n",
              "    <tr>\n",
              "      <td>500</td>\n",
              "      <td>0.332100</td>\n",
              "      <td>0.182067</td>\n",
              "      <td>0.910440</td>\n",
              "      <td>0.868758</td>\n",
              "      <td>0.953284</td>\n",
              "      <td>0.910378</td>\n",
              "    </tr>\n",
              "    <tr>\n",
              "      <td>1000</td>\n",
              "      <td>0.136600</td>\n",
              "      <td>0.164645</td>\n",
              "      <td>0.922646</td>\n",
              "      <td>0.992318</td>\n",
              "      <td>0.874471</td>\n",
              "      <td>0.922103</td>\n",
              "    </tr>\n",
              "    <tr>\n",
              "      <td>1500</td>\n",
              "      <td>0.132900</td>\n",
              "      <td>0.148465</td>\n",
              "      <td>0.922316</td>\n",
              "      <td>0.988476</td>\n",
              "      <td>0.876526</td>\n",
              "      <td>0.921819</td>\n",
              "    </tr>\n",
              "    <tr>\n",
              "      <td>2000</td>\n",
              "      <td>0.120900</td>\n",
              "      <td>0.164306</td>\n",
              "      <td>0.926769</td>\n",
              "      <td>0.922215</td>\n",
              "      <td>0.934783</td>\n",
              "      <td>0.926781</td>\n",
              "    </tr>\n",
              "    <tr>\n",
              "      <td>2500</td>\n",
              "      <td>0.113500</td>\n",
              "      <td>0.189866</td>\n",
              "      <td>0.922481</td>\n",
              "      <td>0.969590</td>\n",
              "      <td>0.889835</td>\n",
              "      <td>0.922204</td>\n",
              "    </tr>\n",
              "    <tr>\n",
              "      <td>3000</td>\n",
              "      <td>0.090100</td>\n",
              "      <td>0.176319</td>\n",
              "      <td>0.923305</td>\n",
              "      <td>0.938220</td>\n",
              "      <td>0.915080</td>\n",
              "      <td>0.923262</td>\n",
              "    </tr>\n",
              "    <tr>\n",
              "      <td>3500</td>\n",
              "      <td>0.066100</td>\n",
              "      <td>0.242538</td>\n",
              "      <td>0.921161</td>\n",
              "      <td>0.949424</td>\n",
              "      <td>0.902617</td>\n",
              "      <td>0.921040</td>\n",
              "    </tr>\n",
              "  </tbody>\n",
              "</table><p>"
            ]
          },
          "metadata": {}
        },
        {
          "output_type": "stream",
          "name": "stderr",
          "text": [
            "***** Running Evaluation *****\n",
            "  Num examples = 6063\n",
            "  Batch size = 64\n",
            "Saving model checkpoint to ./res/checkpoint-500\n",
            "Configuration saved in ./res/checkpoint-500/config.json\n",
            "Model weights saved in ./res/checkpoint-500/pytorch_model.bin\n",
            "<ipython-input-100-59abc277c9d1>:7: UserWarning: To copy construct from a tensor, it is recommended to use sourceTensor.clone().detach() or sourceTensor.clone().detach().requires_grad_(True), rather than torch.tensor(sourceTensor).\n",
            "  item = {key: torch.tensor(val[idx]) for key, val in self.encodings.items()}\n",
            "***** Running Evaluation *****\n",
            "  Num examples = 6063\n",
            "  Batch size = 64\n",
            "Saving model checkpoint to ./res/checkpoint-1000\n",
            "Configuration saved in ./res/checkpoint-1000/config.json\n",
            "Model weights saved in ./res/checkpoint-1000/pytorch_model.bin\n",
            "<ipython-input-100-59abc277c9d1>:7: UserWarning: To copy construct from a tensor, it is recommended to use sourceTensor.clone().detach() or sourceTensor.clone().detach().requires_grad_(True), rather than torch.tensor(sourceTensor).\n",
            "  item = {key: torch.tensor(val[idx]) for key, val in self.encodings.items()}\n",
            "***** Running Evaluation *****\n",
            "  Num examples = 6063\n",
            "  Batch size = 64\n",
            "Saving model checkpoint to ./res/checkpoint-1500\n",
            "Configuration saved in ./res/checkpoint-1500/config.json\n",
            "Model weights saved in ./res/checkpoint-1500/pytorch_model.bin\n",
            "<ipython-input-100-59abc277c9d1>:7: UserWarning: To copy construct from a tensor, it is recommended to use sourceTensor.clone().detach() or sourceTensor.clone().detach().requires_grad_(True), rather than torch.tensor(sourceTensor).\n",
            "  item = {key: torch.tensor(val[idx]) for key, val in self.encodings.items()}\n",
            "***** Running Evaluation *****\n",
            "  Num examples = 6063\n",
            "  Batch size = 64\n",
            "Saving model checkpoint to ./res/checkpoint-2000\n",
            "Configuration saved in ./res/checkpoint-2000/config.json\n",
            "Model weights saved in ./res/checkpoint-2000/pytorch_model.bin\n",
            "<ipython-input-100-59abc277c9d1>:7: UserWarning: To copy construct from a tensor, it is recommended to use sourceTensor.clone().detach() or sourceTensor.clone().detach().requires_grad_(True), rather than torch.tensor(sourceTensor).\n",
            "  item = {key: torch.tensor(val[idx]) for key, val in self.encodings.items()}\n",
            "***** Running Evaluation *****\n",
            "  Num examples = 6063\n",
            "  Batch size = 64\n",
            "Saving model checkpoint to ./res/checkpoint-2500\n",
            "Configuration saved in ./res/checkpoint-2500/config.json\n",
            "Model weights saved in ./res/checkpoint-2500/pytorch_model.bin\n",
            "<ipython-input-100-59abc277c9d1>:7: UserWarning: To copy construct from a tensor, it is recommended to use sourceTensor.clone().detach() or sourceTensor.clone().detach().requires_grad_(True), rather than torch.tensor(sourceTensor).\n",
            "  item = {key: torch.tensor(val[idx]) for key, val in self.encodings.items()}\n",
            "***** Running Evaluation *****\n",
            "  Num examples = 6063\n",
            "  Batch size = 64\n",
            "Saving model checkpoint to ./res/checkpoint-3000\n",
            "Configuration saved in ./res/checkpoint-3000/config.json\n",
            "Model weights saved in ./res/checkpoint-3000/pytorch_model.bin\n",
            "<ipython-input-100-59abc277c9d1>:7: UserWarning: To copy construct from a tensor, it is recommended to use sourceTensor.clone().detach() or sourceTensor.clone().detach().requires_grad_(True), rather than torch.tensor(sourceTensor).\n",
            "  item = {key: torch.tensor(val[idx]) for key, val in self.encodings.items()}\n",
            "***** Running Evaluation *****\n",
            "  Num examples = 6063\n",
            "  Batch size = 64\n",
            "Saving model checkpoint to ./res/checkpoint-3500\n",
            "Configuration saved in ./res/checkpoint-3500/config.json\n",
            "Model weights saved in ./res/checkpoint-3500/pytorch_model.bin\n",
            "<ipython-input-100-59abc277c9d1>:7: UserWarning: To copy construct from a tensor, it is recommended to use sourceTensor.clone().detach() or sourceTensor.clone().detach().requires_grad_(True), rather than torch.tensor(sourceTensor).\n",
            "  item = {key: torch.tensor(val[idx]) for key, val in self.encodings.items()}\n",
            "\n",
            "\n",
            "Training completed. Do not forget to share your model on huggingface.co/models =)\n",
            "\n",
            "\n",
            "Loading best model from ./res/checkpoint-1500 (score: 0.14846524596214294).\n"
          ]
        },
        {
          "output_type": "execute_result",
          "data": {
            "text/plain": [
              "TrainOutput(global_step=3790, training_loss=0.13547678069263147, metrics={'train_runtime': 7755.206, 'train_samples_per_second': 15.633, 'train_steps_per_second': 0.489, 'total_flos': 1.75073890681032e+16, 'train_loss': 0.13547678069263147, 'epoch': 5.0})"
            ]
          },
          "metadata": {},
          "execution_count": 104
        }
      ],
      "source": [
        "trainer = Trainer(\n",
        "    model = model,\n",
        "    args = training_args,\n",
        "    train_dataset = train_dataset,\n",
        "    eval_dataset = test_dataset,\n",
        "    compute_metrics = compute_metrics\n",
        ")\n",
        "trainer.train()"
      ]
    },
    {
      "cell_type": "code",
      "source": [
        "trainer.evaluate"
      ],
      "metadata": {
        "id": "PPU6R_Xbwpt7"
      },
      "execution_count": null,
      "outputs": []
    }
  ],
  "metadata": {
    "kernelspec": {
      "display_name": "Python 3.8.5 ('base')",
      "language": "python",
      "name": "python3"
    },
    "language_info": {
      "codemirror_mode": {
        "name": "ipython",
        "version": 3
      },
      "file_extension": ".py",
      "mimetype": "text/x-python",
      "name": "python",
      "nbconvert_exporter": "python",
      "pygments_lexer": "ipython3",
      "version": "3.8.5"
    },
    "orig_nbformat": 4,
    "vscode": {
      "interpreter": {
        "hash": "8a618a5171b6b9b13bbed96da0c2af5ba3edb4bbff60718affdbca2753afa21a"
      }
    },
    "colab": {
      "provenance": []
    },
    "gpuClass": "standard"
  },
  "nbformat": 4,
  "nbformat_minor": 0
}