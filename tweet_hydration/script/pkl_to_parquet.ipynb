{
 "cells": [
  {
   "cell_type": "code",
   "execution_count": 2,
   "metadata": {},
   "outputs": [],
   "source": [
    "import pandas as pd\n",
    "import os\n",
    "from tqdm import tqdm"
   ]
  },
  {
   "cell_type": "code",
   "execution_count": 3,
   "metadata": {},
   "outputs": [],
   "source": [
    "tweet_dir = '/Users/eman/Documents/UMich/fall22/eecs595/final_proj/rehydrated_tweets'\n",
    "parquet_dir = '/Users/eman/Documents/UMich/fall22/eecs595/final_proj/rehydrated_tweets_parquet'"
   ]
  },
  {
   "cell_type": "markdown",
   "metadata": {},
   "source": [
    "Create year subdirectory in parquet folder"
   ]
  },
  {
   "cell_type": "code",
   "execution_count": 80,
   "metadata": {},
   "outputs": [],
   "source": [
    "years = os.listdir(tweet_dir)\n",
    "years.sort()"
   ]
  },
  {
   "cell_type": "code",
   "execution_count": 81,
   "metadata": {},
   "outputs": [],
   "source": [
    "for yr in years:\n",
    "    try:\n",
    "        os.mkdir(f\"{parquet_dir}/{yr}\")\n",
    "    except FileExistsError:\n",
    "        pass"
   ]
  },
  {
   "cell_type": "markdown",
   "metadata": {},
   "source": [
    "Create month subdirectory in parquet folder"
   ]
  },
  {
   "cell_type": "code",
   "execution_count": 82,
   "metadata": {},
   "outputs": [],
   "source": [
    "months = []\n",
    "for yr in years:\n",
    "    mth_subdirs = os.listdir(f\"{tweet_dir}/{yr}\")\n",
    "    mth_subdirs = [x for x in mth_subdirs if x[0] != '.']\n",
    "    months.append(mth_subdirs)"
   ]
  },
  {
   "cell_type": "code",
   "execution_count": 83,
   "metadata": {},
   "outputs": [],
   "source": [
    "for i, month_list in enumerate(months):\n",
    "    yr = i + 2013\n",
    "    for mth in month_list:\n",
    "        try:\n",
    "            os.mkdir(f\"{parquet_dir}/{yr}/{mth}\")\n",
    "        except FileExistsError:\n",
    "            pass"
   ]
  },
  {
   "cell_type": "markdown",
   "metadata": {},
   "source": [
    "Convert each pickle to parquet"
   ]
  },
  {
   "cell_type": "code",
   "execution_count": 5,
   "metadata": {},
   "outputs": [],
   "source": [
    "# get list of pickle file paths\n",
    "pkl_list = []\n",
    "for root, _, files in os.walk(tweet_dir):\n",
    "    for file in files:\n",
    "        if file[0] != '.':\n",
    "            pkl_file_path = os.path.join(root, file)\n",
    "            pkl_list.append(pkl_file_path)"
   ]
  },
  {
   "cell_type": "code",
   "execution_count": 85,
   "metadata": {},
   "outputs": [
    {
     "name": "stderr",
     "output_type": "stream",
     "text": [
      "100%|██████████| 2236/2236 [02:58<00:00, 12.51it/s] \n"
     ]
    }
   ],
   "source": [
    "for pkl_file in tqdm(pkl_list):\n",
    "    year = pkl_file[72:76]\n",
    "    month = pkl_file[77:79]\n",
    "    file_name = pkl_file[80:-4]\n",
    "    tweet_df = pd.read_pickle(pkl_file)\n",
    "    to_parquet_path = f\"{parquet_dir}/{year}/{month}/{file_name}.parquet\"\n",
    "    tweet_df.to_parquet(to_parquet_path)"
   ]
  },
  {
   "cell_type": "markdown",
   "metadata": {},
   "source": [
    "Check correct number of file processed"
   ]
  },
  {
   "cell_type": "code",
   "execution_count": 6,
   "metadata": {},
   "outputs": [],
   "source": [
    "# get list of parquet file paths\n",
    "parquet_list = []\n",
    "for root, _, files in os.walk(parquet_dir):\n",
    "    for file in files:\n",
    "        if file[0] != '.':\n",
    "            parquet_file_path = os.path.join(root, file)\n",
    "            parquet_list.append(parquet_file_path)\n",
    "\n",
    "assert(len(pkl_list) == len(parquet_list))"
   ]
  },
  {
   "cell_type": "code",
   "execution_count": null,
   "metadata": {},
   "outputs": [],
   "source": []
  }
 ],
 "metadata": {
  "kernelspec": {
   "display_name": "Python 3.8.5 ('base')",
   "language": "python",
   "name": "python3"
  },
  "language_info": {
   "codemirror_mode": {
    "name": "ipython",
    "version": 3
   },
   "file_extension": ".py",
   "mimetype": "text/x-python",
   "name": "python",
   "nbconvert_exporter": "python",
   "pygments_lexer": "ipython3",
   "version": "3.8.5"
  },
  "orig_nbformat": 4,
  "vscode": {
   "interpreter": {
    "hash": "8a618a5171b6b9b13bbed96da0c2af5ba3edb4bbff60718affdbca2753afa21a"
   }
  }
 },
 "nbformat": 4,
 "nbformat_minor": 2
}
